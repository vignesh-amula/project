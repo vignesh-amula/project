{
 "cells": [
  {
   "cell_type": "markdown",
   "metadata": {},
   "source": [
    " create function to check the given number is palindrome number or not?"
   ]
  },
  {
   "cell_type": "code",
   "execution_count": 49,
   "metadata": {},
   "outputs": [
    {
     "name": "stdout",
     "output_type": "stream",
     "text": [
      "Palindrome\n",
      "Not a Palindrome\n"
     ]
    }
   ],
   "source": [
    "def palindrome(n):\n",
    "    temp = n\n",
    "    res = 0\n",
    "    while n>0:\n",
    "        ld = n%10\n",
    "        res = res*10+ld\n",
    "        n//=10\n",
    "    if res==temp:\n",
    "        print('Palindrome')\n",
    "    else:\n",
    "        print('Not a Palindrome')\n",
    "palindrome(101)\n",
    "palindrome(401)"
   ]
  },
  {
   "cell_type": "markdown",
   "metadata": {},
   "source": [
    "create function to check the given number is prime number or not?\n"
   ]
  },
  {
   "cell_type": "code",
   "execution_count": 2,
   "metadata": {},
   "outputs": [
    {
     "name": "stdout",
     "output_type": "stream",
     "text": [
      "Not a Prime Number\n",
      "Not a Prime Number\n",
      "Not a Prime Number\n"
     ]
    }
   ],
   "source": [
    "def prime_number(num):\n",
    "    i = 1\n",
    "    count = 0\n",
    "    while i<=num:\n",
    "        if num%i==0:\n",
    "            count+=1\n",
    "        i+=1\n",
    "    if count==2:\n",
    "        print('Prime Number')\n",
    "    else:\n",
    "        print('Not a Prime Number')\n",
    "prime_number(51)\n",
    "prime_number(52)\n",
    "prime_number(54)"
   ]
  },
  {
   "cell_type": "markdown",
   "metadata": {},
   "source": [
    " create function to check the given number is happy number or not?\n"
   ]
  },
  {
   "cell_type": "code",
   "execution_count": 18,
   "metadata": {},
   "outputs": [
    {
     "name": "stdout",
     "output_type": "stream",
     "text": [
      "Happy Number\n",
      "Happy Number\n"
     ]
    }
   ],
   "source": [
    "def happy_number(num):\n",
    "    sum = 0\n",
    "    while num>0:\n",
    "        ld = num%10\n",
    "        sum+= (ld**2)\n",
    "        num//=10\n",
    "        if (sum==1 or sum==4) and num==0:\n",
    "            if sum==1:\n",
    "                print(\"Happy Number\")\n",
    "            else:\n",
    "                print(\"Not a Happy Number\")\n",
    "        elif num==0:\n",
    "            num=sum\n",
    "            sum=0\n",
    "happy_number(1)\n",
    "happy_number(100)"
   ]
  },
  {
   "cell_type": "markdown",
   "metadata": {},
   "source": [
    "create function to check the given number is perfect number or not?\n"
   ]
  },
  {
   "cell_type": "code",
   "execution_count": 1,
   "metadata": {},
   "outputs": [
    {
     "name": "stdout",
     "output_type": "stream",
     "text": [
      "Perfect Number: 28\n",
      "Perfect Number: 6\n"
     ]
    }
   ],
   "source": [
    "def perfect_number(n):\n",
    "    a=n\n",
    "    i = 1\n",
    "    sum = 0\n",
    "    while i<n:\n",
    "        if n%i == 0:\n",
    "            sum+=i\n",
    "        i+=1\n",
    "    if sum == n:\n",
    "        print('Perfect Number:',n)\n",
    "    else:\n",
    "        print('Not a Perfect Number')\n",
    "perfect_number(28)\n",
    "perfect_number(6)"
   ]
  },
  {
   "cell_type": "markdown",
   "metadata": {},
   "source": [
    "create function to check the given number is armstrong number or not?\n"
   ]
  },
  {
   "cell_type": "code",
   "execution_count": 28,
   "metadata": {},
   "outputs": [
    {
     "name": "stdout",
     "output_type": "stream",
     "text": [
      "Armstrong Number\n",
      "Not a Armstrong Number\n",
      "Not a Armstrong Number\n"
     ]
    }
   ],
   "source": [
    "def armstrong(n):\n",
    "    sum = 0\n",
    "    count = 0\n",
    "    temp = n\n",
    "    a = n\n",
    "    while n>0:\n",
    "        count+=1\n",
    "        n//=10\n",
    "    while temp>n:\n",
    "        sum+=((temp%10)**count)\n",
    "        temp//=10\n",
    "    if a==sum:\n",
    "        print('Armstrong Number')\n",
    "    else:\n",
    "        print('Not a Armstrong Number')\n",
    "armstrong(153)\n",
    "armstrong(16)\n",
    "armstrong(152)"
   ]
  },
  {
   "cell_type": "markdown",
   "metadata": {},
   "source": [
    "create function to prime fibonacci series of length n\n"
   ]
  },
  {
   "cell_type": "code",
   "execution_count": 29,
   "metadata": {},
   "outputs": [
    {
     "name": "stdout",
     "output_type": "stream",
     "text": [
      "0\n",
      "1\n",
      "1\n",
      "2\n",
      "3\n",
      "5\n",
      "8\n",
      "13\n",
      "21\n",
      "34\n"
     ]
    }
   ],
   "source": [
    "def fibonacci_Series(num):\n",
    "    i = 1\n",
    "    prev1 = 0\n",
    "    prev2 = 1\n",
    "    while i<=num:\n",
    "        print(prev1)\n",
    "        next = prev1+prev2\n",
    "        prev1 = prev2\n",
    "        prev2 = next\n",
    "        i+=1\n",
    "fibonacci_Series(10)"
   ]
  },
  {
   "cell_type": "markdown",
   "metadata": {},
   "source": [
    "create function to check the given number is strong number or not?"
   ]
  },
  {
   "cell_type": "code",
   "execution_count": 1,
   "metadata": {},
   "outputs": [
    {
     "name": "stdout",
     "output_type": "stream",
     "text": [
      "Strong Number\n",
      "Not a Strong Number\n"
     ]
    }
   ],
   "source": [
    "def strong_Number(num):\n",
    "    temp = num\n",
    "    fact = 1\n",
    "    sum = 0\n",
    "    while num>0:\n",
    "        ld = num%10\n",
    "        i = 1\n",
    "        while i<=ld:\n",
    "            fact*=i\n",
    "            i+=1\n",
    "        sum+=fact\n",
    "        fact = 1\n",
    "        num//=10\n",
    "    if sum==temp:\n",
    "        print('Strong Number')\n",
    "    else:\n",
    "        print('Not a Strong Number')\n",
    "strong_Number(145)\n",
    "strong_Number(16)"
   ]
  },
  {
   "cell_type": "markdown",
   "metadata": {},
   "source": [
    "wap to print sum of prime numbers in a given number"
   ]
  },
  {
   "cell_type": "code",
   "execution_count": 5,
   "metadata": {},
   "outputs": [
    {
     "name": "stdout",
     "output_type": "stream",
     "text": [
      "17\n"
     ]
    }
   ],
   "source": [
    "def isprime(num):\n",
    "    i=1\n",
    "    count=0\n",
    "    while i<=num:\n",
    "        if num%i==0:\n",
    "            count+=1\n",
    "        i+=1\n",
    "    if count==2:\n",
    "        return True\n",
    "def sumofdigits(num):\n",
    "    sum=0\n",
    "    while num>0:\n",
    "        digit=num%10\n",
    "        if isprime(digit)==True:\n",
    "            sum+=digit\n",
    "        num//=10\n",
    "    return sum\n",
    "print(sumofdigits(1234567))"
   ]
  },
  {
   "cell_type": "markdown",
   "metadata": {},
   "source": [
    "wap to print product of perfect digits in a given number"
   ]
  },
  {
   "cell_type": "code",
   "execution_count": null,
   "metadata": {},
   "outputs": [
    {
     "name": "stdout",
     "output_type": "stream",
     "text": [
      "36\n"
     ]
    }
   ],
   "source": [
    "def isprefect(num):\n",
    "    i=1\n",
    "    sum=0\n",
    "    while i<=num:\n",
    "        if num%i==0:\n",
    "            sum+=i\n",
    "        i+=1\n",
    "        if sum==num:\n",
    "            return True   \n",
    "def productofdigits(num):\n",
    "    prod=1\n",
    "    while num>0:\n",
    "        digit=num%10\n",
    "        if isprefect(digit)==True:\n",
    "            prod*=digit\n",
    "        num//=10\n",
    "    return prod\n",
    "print(productofdigits(656))"
   ]
  },
  {
   "cell_type": "markdown",
   "metadata": {},
   "source": [
    "wap to print sum of the digits in a given number whos factorial is less then 100"
   ]
  },
  {
   "cell_type": "code",
   "execution_count": 73,
   "metadata": {},
   "outputs": [
    {
     "name": "stdout",
     "output_type": "stream",
     "text": [
      "18\n"
     ]
    }
   ],
   "source": [
    "def isfactorial(num):\n",
    "    fact=1  \n",
    "    while num>0:\n",
    "        fact*=num\n",
    "        num-=1\n",
    "    if fact<100:\n",
    "        return True\n",
    "def sumofdigits(num):\n",
    "    sum=0\n",
    "    while num>0:\n",
    "        digit=num%10\n",
    "        if isfactorial(digit)==True:\n",
    "            sum+=digit\n",
    "        num//=10\n",
    "    return sum\n",
    "print(sumofdigits(1234544))"
   ]
  }
 ],
 "metadata": {
  "kernelspec": {
   "display_name": "Python 3",
   "language": "python",
   "name": "python3"
  },
  "language_info": {
   "codemirror_mode": {
    "name": "ipython",
    "version": 3
   },
   "file_extension": ".py",
   "mimetype": "text/x-python",
   "name": "python",
   "nbconvert_exporter": "python",
   "pygments_lexer": "ipython3",
   "version": "3.13.0"
  }
 },
 "nbformat": 4,
 "nbformat_minor": 2
}
